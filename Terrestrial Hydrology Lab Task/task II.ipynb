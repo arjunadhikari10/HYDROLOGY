{
 "cells": [
  {
   "cell_type": "markdown",
   "id": "23b80d9e-bee4-4c0e-a0ff-487f3f667aef",
   "metadata": {},
   "source": [
    "# **Time Series Data for rainfall**"
   ]
  },
  {
   "cell_type": "markdown",
   "id": "3c0b95bf-e479-4151-aa0a-3a09699c0762",
   "metadata": {},
   "source": [
    "**Name:** Arjun Adhikari\n",
    "          \n",
    "**Date:** 17th June, 2024. \n",
    "\n",
    "Third year Civil Engineering Student at Pulchowk Campus"
   ]
  },
  {
   "cell_type": "markdown",
   "id": "19eee515-6737-4cf2-ae93-464590136440",
   "metadata": {},
   "source": [
    "I downloaded the zip file 2, extracted it, and opened the shapefile in QGIS, discovered it to be point data. I didn’t know much about Google Earth Engine, but my respected teacher, Dr. Prem Chandra Jha, had once mentioned it. While working on Task 2, I found that it was related to Google Earth Engine, which level up my interest.\n",
    "\n",
    "I explored the documentation and was fascinated by Google Earth Engine. It became even more interesting when I realized we could import Earth Engine into a Python console. I tried to learn from the documentation and attempted to extract the data but encountered some errors. I then sought help from ChatGPT and proceeded as follows:\n",
    "\n",
    "Please verify my results."
   ]
  },
  {
   "cell_type": "markdown",
   "id": "4fcdfe58-43a3-4b31-bd78-077ccc3ee0dc",
   "metadata": {},
   "source": [
    "Lets Import necessary library"
   ]
  },
  {
   "cell_type": "code",
   "execution_count": 1,
   "id": "505661fc-4062-40b8-8384-88c59108c8ad",
   "metadata": {},
   "outputs": [],
   "source": [
    "import ee\n",
    "import geopandas as gpd\n",
    "import pandas as pd\n",
    "from datetime import datetime, timedelta\n",
    "from matplotlib import pyplot as plt\n",
    "import folium"
   ]
  },
  {
   "cell_type": "markdown",
   "id": "1d9377fb-b0a9-4aff-90a7-f22b0fbe6687",
   "metadata": {},
   "source": [
    "Lets initialize Earth Engine API"
   ]
  },
  {
   "cell_type": "code",
   "execution_count": 2,
   "id": "ef6d530f-83b8-4938-9ae1-4ac32b1c4d87",
   "metadata": {},
   "outputs": [],
   "source": [
    "ee.Initialize() "
   ]
  },
  {
   "cell_type": "markdown",
   "id": "db3c0e62-2c0b-4b86-a19e-75200c295cb5",
   "metadata": {},
   "source": [
    "Loading the Shapefile and Extracting Location"
   ]
  },
  {
   "cell_type": "code",
   "execution_count": 3,
   "id": "46284e56-0302-4fe2-9dd6-961a178af90c",
   "metadata": {},
   "outputs": [],
   "source": [
    "gdf = gpd.read_file(\"location point.shp\")\n",
    "point = gdf.geometry.iloc[0]\n",
    "location = ee.Geometry.Point(point.x, point.y)"
   ]
  },
  {
   "cell_type": "markdown",
   "id": "021a6586-81a6-495e-9518-065437c59cb0",
   "metadata": {},
   "source": [
    "Lets visualize our area of interest"
   ]
  },
  {
   "cell_type": "code",
   "execution_count": 4,
   "id": "141b22fb-add8-4906-b434-584666b41362",
   "metadata": {},
   "outputs": [],
   "source": [
    "# Create a map centered around the location point\n",
    "m = folium.Map(location=[point.y, point.x], zoom_start=10)"
   ]
  },
  {
   "cell_type": "code",
   "execution_count": 5,
   "id": "bc59a49d-c389-4c06-8d70-9daa1d73fce0",
   "metadata": {},
   "outputs": [
    {
     "data": {
      "text/html": [
       "<div style=\"width:100%;\"><div style=\"position:relative;width:100%;height:0;padding-bottom:60%;\"><span style=\"color:#565656\">Make this Notebook Trusted to load map: File -> Trust Notebook</span><iframe srcdoc=\"&lt;!DOCTYPE html&gt;\n",
       "&lt;html&gt;\n",
       "&lt;head&gt;\n",
       "    \n",
       "    &lt;meta http-equiv=&quot;content-type&quot; content=&quot;text/html; charset=UTF-8&quot; /&gt;\n",
       "    \n",
       "        &lt;script&gt;\n",
       "            L_NO_TOUCH = false;\n",
       "            L_DISABLE_3D = false;\n",
       "        &lt;/script&gt;\n",
       "    \n",
       "    &lt;style&gt;html, body {width: 100%;height: 100%;margin: 0;padding: 0;}&lt;/style&gt;\n",
       "    &lt;style&gt;#map {position:absolute;top:0;bottom:0;right:0;left:0;}&lt;/style&gt;\n",
       "    &lt;script src=&quot;https://cdn.jsdelivr.net/npm/leaflet@1.9.3/dist/leaflet.js&quot;&gt;&lt;/script&gt;\n",
       "    &lt;script src=&quot;https://code.jquery.com/jquery-3.7.1.min.js&quot;&gt;&lt;/script&gt;\n",
       "    &lt;script src=&quot;https://cdn.jsdelivr.net/npm/bootstrap@5.2.2/dist/js/bootstrap.bundle.min.js&quot;&gt;&lt;/script&gt;\n",
       "    &lt;script src=&quot;https://cdnjs.cloudflare.com/ajax/libs/Leaflet.awesome-markers/2.0.2/leaflet.awesome-markers.js&quot;&gt;&lt;/script&gt;\n",
       "    &lt;link rel=&quot;stylesheet&quot; href=&quot;https://cdn.jsdelivr.net/npm/leaflet@1.9.3/dist/leaflet.css&quot;/&gt;\n",
       "    &lt;link rel=&quot;stylesheet&quot; href=&quot;https://cdn.jsdelivr.net/npm/bootstrap@5.2.2/dist/css/bootstrap.min.css&quot;/&gt;\n",
       "    &lt;link rel=&quot;stylesheet&quot; href=&quot;https://netdna.bootstrapcdn.com/bootstrap/3.0.0/css/bootstrap-glyphicons.css&quot;/&gt;\n",
       "    &lt;link rel=&quot;stylesheet&quot; href=&quot;https://cdn.jsdelivr.net/npm/@fortawesome/fontawesome-free@6.2.0/css/all.min.css&quot;/&gt;\n",
       "    &lt;link rel=&quot;stylesheet&quot; href=&quot;https://cdnjs.cloudflare.com/ajax/libs/Leaflet.awesome-markers/2.0.2/leaflet.awesome-markers.css&quot;/&gt;\n",
       "    &lt;link rel=&quot;stylesheet&quot; href=&quot;https://cdn.jsdelivr.net/gh/python-visualization/folium/folium/templates/leaflet.awesome.rotate.min.css&quot;/&gt;\n",
       "    \n",
       "            &lt;meta name=&quot;viewport&quot; content=&quot;width=device-width,\n",
       "                initial-scale=1.0, maximum-scale=1.0, user-scalable=no&quot; /&gt;\n",
       "            &lt;style&gt;\n",
       "                #map_1c61e810cfeea53a16a4106d7164201e {\n",
       "                    position: relative;\n",
       "                    width: 100.0%;\n",
       "                    height: 100.0%;\n",
       "                    left: 0.0%;\n",
       "                    top: 0.0%;\n",
       "                }\n",
       "                .leaflet-container { font-size: 1rem; }\n",
       "            &lt;/style&gt;\n",
       "        \n",
       "&lt;/head&gt;\n",
       "&lt;body&gt;\n",
       "    \n",
       "    \n",
       "            &lt;div class=&quot;folium-map&quot; id=&quot;map_1c61e810cfeea53a16a4106d7164201e&quot; &gt;&lt;/div&gt;\n",
       "        \n",
       "&lt;/body&gt;\n",
       "&lt;script&gt;\n",
       "    \n",
       "    \n",
       "            var map_1c61e810cfeea53a16a4106d7164201e = L.map(\n",
       "                &quot;map_1c61e810cfeea53a16a4106d7164201e&quot;,\n",
       "                {\n",
       "                    center: [27.685294269645304, 85.34875354627623],\n",
       "                    crs: L.CRS.EPSG3857,\n",
       "                    zoom: 10,\n",
       "                    zoomControl: true,\n",
       "                    preferCanvas: false,\n",
       "                }\n",
       "            );\n",
       "\n",
       "            \n",
       "\n",
       "        \n",
       "    \n",
       "            var tile_layer_cb56e076401ba94c44b6948de7bb0651 = L.tileLayer(\n",
       "                &quot;https://tile.openstreetmap.org/{z}/{x}/{y}.png&quot;,\n",
       "                {&quot;attribution&quot;: &quot;\\u0026copy; \\u003ca href=\\&quot;https://www.openstreetmap.org/copyright\\&quot;\\u003eOpenStreetMap\\u003c/a\\u003e contributors&quot;, &quot;detectRetina&quot;: false, &quot;maxNativeZoom&quot;: 19, &quot;maxZoom&quot;: 19, &quot;minZoom&quot;: 0, &quot;noWrap&quot;: false, &quot;opacity&quot;: 1, &quot;subdomains&quot;: &quot;abc&quot;, &quot;tms&quot;: false}\n",
       "            );\n",
       "        \n",
       "    \n",
       "            tile_layer_cb56e076401ba94c44b6948de7bb0651.addTo(map_1c61e810cfeea53a16a4106d7164201e);\n",
       "        \n",
       "&lt;/script&gt;\n",
       "&lt;/html&gt;\" style=\"position:absolute;width:100%;height:100%;left:0;top:0;border:none !important;\" allowfullscreen webkitallowfullscreen mozallowfullscreen></iframe></div></div>"
      ],
      "text/plain": [
       "<folium.folium.Map at 0x1204fccd0>"
      ]
     },
     "execution_count": 5,
     "metadata": {},
     "output_type": "execute_result"
    }
   ],
   "source": [
    "m"
   ]
  },
  {
   "cell_type": "markdown",
   "id": "d54c5298-004a-41b0-b58b-49cd20f653aa",
   "metadata": {},
   "source": [
    "## **Define a Function to Extract Precipitation Data:**"
   ]
  },
  {
   "cell_type": "code",
   "execution_count": 6,
   "id": "afaf2366-939b-4eb7-b4dc-62cda074671c",
   "metadata": {},
   "outputs": [],
   "source": [
    "def extract_precipitation(image):\n",
    "    date = image.date().format('YYYY-MM-dd')\n",
    "    precipitation = image.reduceRegion(ee.Reducer.first(), location, scale=1000).get('precipitationCal')\n",
    "    return ee.Feature(None, {'date': date, 'precipitation': precipitation})\n"
   ]
  },
  {
   "cell_type": "markdown",
   "id": "b69febcb-b67a-49f0-ac36-a08a0ffcb457",
   "metadata": {},
   "source": [
    "load the GPM IMERG dataset (NASA/GPM_L3/IMERG_V06) into an ImageCollection.\n",
    "Filter the dataset to include only the images within the specified date range.\n",
    "Select the precipitationCal band, which contains the precipitation data.\n"
   ]
  },
  {
   "cell_type": "code",
   "execution_count": 7,
   "id": "df034bbd-910d-4041-8f6a-d28ca44c456f",
   "metadata": {},
   "outputs": [],
   "source": [
    "def get_precipitation_data(start_date, end_date):\n",
    "    dataset = ee.ImageCollection('NASA/GPM_L3/IMERG_V06') \\\n",
    "                .filterDate(start_date, end_date) \\\n",
    "                .select('precipitationCal')\n",
    "    precipitation_data = dataset.map(extract_precipitation)\n",
    "    return precipitation_data.getInfo()['features']\n"
   ]
  },
  {
   "cell_type": "markdown",
   "id": "c96bbb23-b7ab-4dba-9bd9-dc59fff3b817",
   "metadata": {},
   "source": [
    "## **Batch Processing Function**"
   ]
  },
  {
   "cell_type": "markdown",
   "id": "3615cbee-7b91-4cb9-a434-fd080d41569a",
   "metadata": {},
   "source": [
    "In order to divide the time range into smaller batches (in this case, 30 days) such that each batch process seperately and avoids time outs, lets make batch processing function"
   ]
  },
  {
   "cell_type": "code",
   "execution_count": 8,
   "id": "c30d5ac4-a009-4b37-998d-c924796cd4ae",
   "metadata": {},
   "outputs": [],
   "source": [
    "def batch_process(start_date, end_date, batch_size_days=30):\n",
    "    current_start_date = datetime.strptime(start_date, '%Y-%m-%d')\n",
    "    final_end_date = datetime.strptime(end_date, '%Y-%m-%d')\n",
    "    batch_size = timedelta(days=batch_size_days)\n",
    "    all_data = []\n",
    "\n",
    "    while current_start_date < final_end_date:\n",
    "        current_end_date = min(current_start_date + batch_size, final_end_date)\n",
    "        data_batch = get_precipitation_data(current_start_date.strftime('%Y-%m-%d'), current_end_date.strftime('%Y-%m-%d'))\n",
    "        all_data.extend(data_batch)\n",
    "        current_start_date = current_end_date\n",
    "\n",
    "    return all_data\n"
   ]
  },
  {
   "cell_type": "code",
   "execution_count": 9,
   "id": "61e1b0bf-a760-4be9-94d3-0c66d1683ddd",
   "metadata": {},
   "outputs": [],
   "source": [
    "# Define the time period\n",
    "start_date = '2019-01-01'\n",
    "end_date = '2020-12-31'\n",
    "batch_size_days = 30  # Process data in 30-day batches\n",
    "\n",
    "# Process the data in batches\n",
    "all_data = batch_process(start_date, end_date, batch_size_days)\n",
    "\n",
    "# Convert the data to a Pandas DataFrame\n",
    "data = [{'date': feature['properties']['date'], 'precipitation': feature['properties']['precipitation']} for feature in all_data]\n",
    "df = pd.DataFrame(data)\n",
    "\n",
    "# Convert the date to datetime format\n",
    "df['date'] = pd.to_datetime(df['date'])\n",
    "\n",
    "# Sort the DataFrame by date\n",
    "df = df.sort_values('date').reset_index(drop=True)\n",
    "\n",
    "# Save the DataFrame to a CSV file\n",
    "df.to_csv('rainfalltimeseries.csv', index=False)\n",
    "\n"
   ]
  },
  {
   "cell_type": "code",
   "execution_count": 10,
   "id": "a8a22319-224e-42f7-b1a9-16a4f15ab497",
   "metadata": {},
   "outputs": [
    {
     "data": {
      "text/html": [
       "<div>\n",
       "<style scoped>\n",
       "    .dataframe tbody tr th:only-of-type {\n",
       "        vertical-align: middle;\n",
       "    }\n",
       "\n",
       "    .dataframe tbody tr th {\n",
       "        vertical-align: top;\n",
       "    }\n",
       "\n",
       "    .dataframe thead th {\n",
       "        text-align: right;\n",
       "    }\n",
       "</style>\n",
       "<table border=\"1\" class=\"dataframe\">\n",
       "  <thead>\n",
       "    <tr style=\"text-align: right;\">\n",
       "      <th></th>\n",
       "      <th>date</th>\n",
       "      <th>precipitation</th>\n",
       "    </tr>\n",
       "  </thead>\n",
       "  <tbody>\n",
       "    <tr>\n",
       "      <th>0</th>\n",
       "      <td>2019-01-01</td>\n",
       "      <td>0.0</td>\n",
       "    </tr>\n",
       "    <tr>\n",
       "      <th>1</th>\n",
       "      <td>2019-01-01</td>\n",
       "      <td>0.0</td>\n",
       "    </tr>\n",
       "    <tr>\n",
       "      <th>2</th>\n",
       "      <td>2019-01-01</td>\n",
       "      <td>0.0</td>\n",
       "    </tr>\n",
       "    <tr>\n",
       "      <th>3</th>\n",
       "      <td>2019-01-01</td>\n",
       "      <td>0.0</td>\n",
       "    </tr>\n",
       "    <tr>\n",
       "      <th>4</th>\n",
       "      <td>2019-01-01</td>\n",
       "      <td>0.0</td>\n",
       "    </tr>\n",
       "    <tr>\n",
       "      <th>...</th>\n",
       "      <td>...</td>\n",
       "      <td>...</td>\n",
       "    </tr>\n",
       "    <tr>\n",
       "      <th>35035</th>\n",
       "      <td>2020-12-30</td>\n",
       "      <td>0.0</td>\n",
       "    </tr>\n",
       "    <tr>\n",
       "      <th>35036</th>\n",
       "      <td>2020-12-30</td>\n",
       "      <td>0.0</td>\n",
       "    </tr>\n",
       "    <tr>\n",
       "      <th>35037</th>\n",
       "      <td>2020-12-30</td>\n",
       "      <td>0.0</td>\n",
       "    </tr>\n",
       "    <tr>\n",
       "      <th>35038</th>\n",
       "      <td>2020-12-30</td>\n",
       "      <td>0.0</td>\n",
       "    </tr>\n",
       "    <tr>\n",
       "      <th>35039</th>\n",
       "      <td>2020-12-30</td>\n",
       "      <td>0.0</td>\n",
       "    </tr>\n",
       "  </tbody>\n",
       "</table>\n",
       "<p>35040 rows × 2 columns</p>\n",
       "</div>"
      ],
      "text/plain": [
       "            date  precipitation\n",
       "0     2019-01-01            0.0\n",
       "1     2019-01-01            0.0\n",
       "2     2019-01-01            0.0\n",
       "3     2019-01-01            0.0\n",
       "4     2019-01-01            0.0\n",
       "...          ...            ...\n",
       "35035 2020-12-30            0.0\n",
       "35036 2020-12-30            0.0\n",
       "35037 2020-12-30            0.0\n",
       "35038 2020-12-30            0.0\n",
       "35039 2020-12-30            0.0\n",
       "\n",
       "[35040 rows x 2 columns]"
      ]
     },
     "execution_count": 10,
     "metadata": {},
     "output_type": "execute_result"
    }
   ],
   "source": [
    "df"
   ]
  },
  {
   "cell_type": "code",
   "execution_count": 11,
   "id": "c362e4bc-ff52-4b84-a9a0-4ed4a7327383",
   "metadata": {},
   "outputs": [
    {
     "data": {
      "image/png": "[encoded data removed]",
      "text/plain": [
       "<Figure size 1400x700 with 1 Axes>"
      ]
     },
     "metadata": {},
     "output_type": "display_data"
    }
   ],
   "source": [
    "# Plotting the data\n",
    "plt.figure(figsize=(14, 7))\n",
    "plt.plot(df['date'], df['precipitation'], label='Daily Precipitation', color='r')\n",
    "plt.xlabel('Date')\n",
    "plt.ylabel('Precipitation (mm)')\n",
    "plt.title('Daily Precipitation Time Series')\n",
    "plt.legend()\n",
    "plt.grid(True)\n",
    "plt.tight_layout()"
   ]
  },
  {
   "cell_type": "markdown",
   "id": "de67b8ef-17ad-4325-8dd2-ce0d0c6335ad",
   "metadata": {},
   "source": [
    "## **Conclusion**"
   ]
  },
  {
   "cell_type": "markdown",
   "id": "fd158ac0-f2b3-4335-9100-9b8e64dc7026",
   "metadata": {},
   "source": [
    "This dataset comprises two years of rainfall data (time series). By analyzing a larger dataset spanning multiple years, we can identify patterns, create training sets, and utilize machine learning models such as scikit-learn or Keras to forecast future rainfall."
   ]
  },
  {
   "cell_type": "markdown",
   "id": "3afb5655-f54c-4e41-a646-6c2deaf0155b",
   "metadata": {},
   "source": [
    "## **References**"
   ]
  },
  {
   "cell_type": "markdown",
   "id": "2ed27ea7-c8d9-4dfd-8311-6bbf996c02c3",
   "metadata": {},
   "source": [
    "Google. (n.d.). Introduction to the Earth Engine Python API. Retrieved from \n",
    "https://developers.google.com/earth-engine/tutorials/community/intro-to-python-api\n",
    "\n",
    "OpenAI. (2024). ChatGPT. Retrieved from https://www.openai.com/chatgpt"
   ]
  }
 ],
 "metadata": {
  "kernelspec": {
   "display_name": "Python 3 (ipykernel)",
   "language": "python",
   "name": "python3"
  },
  "language_info": {
   "codemirror_mode": {
    "name": "ipython",
    "version": 3
   },
   "file_extension": ".py",
   "mimetype": "text/x-python",
   "name": "python",
   "nbconvert_exporter": "python",
   "pygments_lexer": "ipython3",
   "version": "3.11.9"
  }
 },
 "nbformat": 4,
 "nbformat_minor": 5
}
